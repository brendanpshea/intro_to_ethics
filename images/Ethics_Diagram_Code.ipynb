{
  "nbformat": 4,
  "nbformat_minor": 0,
  "metadata": {
    "colab": {
      "provenance": [],
      "authorship_tag": "ABX9TyNt3n167FVoQ0Q748zOe4CQ",
      "include_colab_link": true
    },
    "kernelspec": {
      "name": "python3",
      "display_name": "Python 3"
    },
    "language_info": {
      "name": "python"
    }
  },
  "cells": [
    {
      "cell_type": "markdown",
      "metadata": {
        "id": "view-in-github",
        "colab_type": "text"
      },
      "source": [
        "<a href=\"https://colab.research.google.com/github/brendanpshea/intro_to_ethics/blob/main/images/Ethics_Diagram_Code.ipynb\" target=\"_parent\"><img src=\"https://colab.research.google.com/assets/colab-badge.svg\" alt=\"Open In Colab\"/></a>"
      ]
    },
    {
      "cell_type": "markdown",
      "source": [
        "## Kant's Ethics\n",
        "\n"
      ],
      "metadata": {
        "id": "gptOBRlYeVEf"
      }
    },
    {
      "cell_type": "code",
      "execution_count": 6,
      "metadata": {
        "id": "6b4cYHqhcdHi"
      },
      "outputs": [],
      "source": [
        "# @title\n",
        "import base64\n",
        "import requests\n",
        "from IPython.display import Image, display\n",
        "import matplotlib.pyplot as plt\n",
        "\n",
        "def mm(graph, width=900, height=600, filename=\"mermaid.png\"):  # Add default dimensions\n",
        "    graphbytes = graph.encode(\"utf8\")\n",
        "    base64_bytes = base64.urlsafe_b64encode(graphbytes)\n",
        "    base64_string = base64_bytes.decode(\"ascii\")\n",
        "    # Add width and height parameters to the URL\n",
        "    url = f\"https://mermaid.ink/img/{base64_string}?width={width}&height={height}\"\n",
        "    display(Image(url=url))\n",
        "\n",
        "    # Download and save the image\n",
        "    response = requests.get(url)\n",
        "    with open(filename, \"wb\") as f:\n",
        "        f.write(response.content)\n",
        "    print(f\"Mermaid diagram saved as {filename}\")"
      ]
    },
    {
      "cell_type": "code",
      "source": [
        "mm(\"\"\"\n",
        "flowchart LR\n",
        "    A[Consider Maxim of Action] --> B{Can it be universalized?}\n",
        "    B -->|Yes| C{Would it create logical contradiction?}\n",
        "    B -->|No| D[Action is not permissible]\n",
        "    C -->|No| E{Would it create practical contradiction?}\n",
        "    C -->|Yes| D\n",
        "    E -->|No| F[Action is morally permissible]\n",
        "    E -->|Yes| D\n",
        "\"\"\", filename = \"ci_universalize.png\")"
      ],
      "metadata": {
        "colab": {
          "base_uri": "https://localhost:8080/",
          "height": 639
        },
        "id": "blRjxbdydZlk",
        "outputId": "048516d8-c348-4958-d275-7ce4e10c5bf0"
      },
      "execution_count": 9,
      "outputs": [
        {
          "output_type": "display_data",
          "data": {
            "text/html": [
              "<img src=\"https://mermaid.ink/img/CmZsb3djaGFydCBMUgogICAgQVtDb25zaWRlciBNYXhpbSBvZiBBY3Rpb25dIC0tPiBCe0NhbiBpdCBiZSB1bml2ZXJzYWxpemVkP30KICAgIEIgLS0-fFllc3wgQ3tXb3VsZCBpdCBjcmVhdGUgbG9naWNhbCBjb250cmFkaWN0aW9uP30KICAgIEIgLS0-fE5vfCBEW0FjdGlvbiBpcyBub3QgcGVybWlzc2libGVdCiAgICBDIC0tPnxOb3wgRXtXb3VsZCBpdCBjcmVhdGUgcHJhY3RpY2FsIGNvbnRyYWRpY3Rpb24_fQogICAgQyAtLT58WWVzfCBECiAgICBFIC0tPnxOb3wgRltBY3Rpb24gaXMgbW9yYWxseSBwZXJtaXNzaWJsZV0KICAgIEUgLS0-fFllc3wgRAo=?width=900&height=600\"/>"
            ],
            "text/plain": [
              "<IPython.core.display.Image object>"
            ]
          },
          "metadata": {}
        },
        {
          "output_type": "stream",
          "name": "stdout",
          "text": [
            "Mermaid diagram saved as ci_universalize.png\n"
          ]
        }
      ]
    },
    {
      "cell_type": "code",
      "source": [
        "mm(\"\"\"\n",
        "mindmap\n",
        "    root((Prima Facie Duties))\n",
        "        Principle of Fidelity\n",
        "            Keeping promises\n",
        "            Telling truth\n",
        "        Principle of Reparation\n",
        "            Compensating for wrongs\n",
        "        Principle of Gratitude\n",
        "            Returning kindness\n",
        "        Principle of Justice\n",
        "            Distributing by merit\n",
        "        Principle of Beneficence\n",
        "            Improving others' conditions\n",
        "        Principle of Self-Improvement\n",
        "            Improving one's own virtue\n",
        "        Principle of Non-maleficence\n",
        "            Refraining from harm\n",
        "\"\"\", filename = \"ross_pluralism.png\")"
      ],
      "metadata": {
        "colab": {
          "base_uri": "https://localhost:8080/",
          "height": 639
        },
        "id": "V1O7uLtyeq8Q",
        "outputId": "138b5822-1800-49c6-b998-9c08ee6bb588"
      },
      "execution_count": 14,
      "outputs": [
        {
          "output_type": "display_data",
          "data": {
            "text/html": [
              "<img src=\"https://mermaid.ink/img/Cm1pbmRtYXAKICAgIHJvb3QoKFByaW1hIEZhY2llIER1dGllcykpCiAgICAgICAgUHJpbmNpcGxlIG9mIEZpZGVsaXR5CiAgICAgICAgICAgIEtlZXBpbmcgcHJvbWlzZXMKICAgICAgICAgICAgVGVsbGluZyB0cnV0aAogICAgICAgIFByaW5jaXBsZSBvZiBSZXBhcmF0aW9uCiAgICAgICAgICAgIENvbXBlbnNhdGluZyBmb3Igd3JvbmdzCiAgICAgICAgUHJpbmNpcGxlIG9mIEdyYXRpdHVkZQogICAgICAgICAgICBSZXR1cm5pbmcga2luZG5lc3MKICAgICAgICBQcmluY2lwbGUgb2YgSnVzdGljZQogICAgICAgICAgICBEaXN0cmlidXRpbmcgYnkgbWVyaXQKICAgICAgICBQcmluY2lwbGUgb2YgQmVuZWZpY2VuY2UKICAgICAgICAgICAgSW1wcm92aW5nIG90aGVycycgY29uZGl0aW9ucwogICAgICAgIFByaW5jaXBsZSBvZiBTZWxmLUltcHJvdmVtZW50CiAgICAgICAgICAgIEltcHJvdmluZyBvbmUncyBvd24gdmlydHVlCiAgICAgICAgUHJpbmNpcGxlIG9mIE5vbi1tYWxlZmljZW5jZQogICAgICAgICAgICBSZWZyYWluaW5nIGZyb20gaGFybQo=?width=900&height=600\"/>"
            ],
            "text/plain": [
              "<IPython.core.display.Image object>"
            ]
          },
          "metadata": {}
        },
        {
          "output_type": "stream",
          "name": "stdout",
          "text": [
            "Mermaid diagram saved as ross_pluralism.png\n"
          ]
        }
      ]
    },
    {
      "cell_type": "code",
      "source": [
        "mm(\"\"\"\n",
        "graph TD\n",
        "    A[Ethical Decision Point] --> B{Is harm/benefit above threshold?}\n",
        "\n",
        "    B -->|Below Threshold| C[Apply Deontological Rules]\n",
        "    B -->|Above Threshold| D[Apply Consequentialist Calculation]\n",
        "\n",
        "    C --> E[Absolute Prohibitions Apply]\n",
        "    C --> F[Focus on Duty/Rights]\n",
        "    C --> G[Agent-Relative Obligations]\n",
        "\n",
        "    D --> H[Calculate Total Utility]\n",
        "    D --> I[Consider Aggregate Outcomes]\n",
        "    D --> J[Agent-Neutral Assessment]\n",
        "\n",
        "    subgraph Below Threshold\n",
        "    E\n",
        "    F\n",
        "    G\n",
        "    end\n",
        "\n",
        "    subgraph Above Threshold\n",
        "    H\n",
        "    I\n",
        "    J\n",
        "    end\n",
        "\n",
        "\"\"\", filename = \"threshold.png\")"
      ],
      "metadata": {
        "colab": {
          "base_uri": "https://localhost:8080/",
          "height": 639
        },
        "id": "bwF2yJ5ld2Z8",
        "outputId": "5fc95729-d0ac-4cac-bc6d-10f52e67b2e1"
      },
      "execution_count": 13,
      "outputs": [
        {
          "output_type": "display_data",
          "data": {
            "text/html": [
              "<img src=\"https://mermaid.ink/img/CmdyYXBoIFRECiAgICBBW0V0aGljYWwgRGVjaXNpb24gUG9pbnRdIC0tPiBCe0lzIGhhcm0vYmVuZWZpdCBhYm92ZSB0aHJlc2hvbGQ_fQogICAgCiAgICBCIC0tPnxCZWxvdyBUaHJlc2hvbGR8IENbQXBwbHkgRGVvbnRvbG9naWNhbCBSdWxlc10KICAgIEIgLS0-fEFib3ZlIFRocmVzaG9sZHwgRFtBcHBseSBDb25zZXF1ZW50aWFsaXN0IENhbGN1bGF0aW9uXQogICAgCiAgICBDIC0tPiBFW0Fic29sdXRlIFByb2hpYml0aW9ucyBBcHBseV0KICAgIEMgLS0-IEZbRm9jdXMgb24gRHV0eS9SaWdodHNdCiAgICBDIC0tPiBHW0FnZW50LVJlbGF0aXZlIE9ibGlnYXRpb25zXQogICAgCiAgICBEIC0tPiBIW0NhbGN1bGF0ZSBUb3RhbCBVdGlsaXR5XQogICAgRCAtLT4gSVtDb25zaWRlciBBZ2dyZWdhdGUgT3V0Y29tZXNdCiAgICBEIC0tPiBKW0FnZW50LU5ldXRyYWwgQXNzZXNzbWVudF0KICAgIAogICAgc3ViZ3JhcGggQmVsb3cgVGhyZXNob2xkCiAgICBFCiAgICBGCiAgICBHCiAgICBlbmQKICAgIAogICAgc3ViZ3JhcGggQWJvdmUgVGhyZXNob2xkCiAgICBICiAgICBJCiAgICBKCiAgICBlbmQKCg==?width=900&height=600\"/>"
            ],
            "text/plain": [
              "<IPython.core.display.Image object>"
            ]
          },
          "metadata": {}
        },
        {
          "output_type": "stream",
          "name": "stdout",
          "text": [
            "Mermaid diagram saved as threshold.png\n"
          ]
        }
      ]
    }
  ]
}